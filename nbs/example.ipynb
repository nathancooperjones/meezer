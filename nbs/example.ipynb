{
 "cells": [
  {
   "cell_type": "code",
   "execution_count": 1,
   "metadata": {},
   "outputs": [
    {
     "name": "stdout",
     "output_type": "stream",
     "text": [
      "Building KNN index...\n"
     ]
    },
    {
     "data": {
      "application/vnd.jupyter.widget-view+json": {
       "model_id": "ea3e4739e21a4e60a4769964617bfd9c",
       "version_major": 2,
       "version_minor": 0
      },
      "text/plain": [
       "HBox(children=(FloatProgress(value=0.0, max=1797.0), HTML(value='')))"
      ]
     },
     "metadata": {},
     "output_type": "display_data"
    },
    {
     "name": "stdout",
     "output_type": "stream",
     "text": [
      "\n",
      "Extracting KNN from index...\n"
     ]
    },
    {
     "data": {
      "application/vnd.jupyter.widget-view+json": {
       "model_id": "3592bfd0a05a4038b7228a9bc9f91d23",
       "version_major": 2,
       "version_minor": 0
      },
      "text/plain": [
       "HBox(children=(FloatProgress(value=0.0, max=1797.0), HTML(value='')))"
      ]
     },
     "metadata": {},
     "output_type": "display_data"
    },
    {
     "name": "stdout",
     "output_type": "stream",
     "text": [
      "\n",
      "WARNING:tensorflow:From /usr/local/lib/python3.6/dist-packages/tensorflow_core/python/ops/resource_variable_ops.py:1630: calling BaseResourceVariable.__init__ (from tensorflow.python.ops.resource_variable_ops) with constraint is deprecated and will be removed in a future version.\n",
      "Instructions for updating:\n",
      "If using Keras pass *_constraint arguments to layers.\n",
      "WARNING:tensorflow:From /usr/local/lib/python3.6/dist-packages/tensorflow_core/python/keras/backend.py:4277: where (from tensorflow.python.ops.array_ops) is deprecated and will be removed in a future version.\n",
      "Instructions for updating:\n",
      "Use tf.where in 2.0, which has the same broadcast rule as np.where\n",
      "Training neural network...\n"
     ]
    },
    {
     "data": {
      "application/vnd.jupyter.widget-view+json": {
       "model_id": "1e92e8c0bc5c4abab833b2d84ce9f897",
       "version_major": 2,
       "version_minor": 0
      },
      "text/plain": [
       "HBox(children=(FloatProgress(value=0.0, max=30.0), HTML(value='')))"
      ]
     },
     "metadata": {},
     "output_type": "display_data"
    },
    {
     "name": "stdout",
     "output_type": "stream",
     "text": [
      "Epoch 0: loss 1.3306853014890792\n",
      "Building new KNN index...\n",
      "Extracting KNN from new index...\n",
      "Training next epoch...\n",
      "Epoch 1: loss 0.9819342140860868\n",
      "Building new KNN index...\n",
      "Extracting KNN from new index...\n",
      "Training next epoch...\n",
      "Epoch 2: loss 0.8682061364800651\n",
      "Building new KNN index...\n",
      "Extracting KNN from new index...\n",
      "Training next epoch...\n",
      "Epoch 3: loss 0.7935218796440807\n",
      "Building new KNN index...\n",
      "Extracting KNN from new index...\n",
      "Training next epoch...\n",
      "Epoch 4: loss 0.7383137162718828\n",
      "Building new KNN index...\n",
      "Extracting KNN from new index...\n",
      "Training next epoch...\n",
      "Epoch 5: loss 0.6787514364182055\n",
      "Building new KNN index...\n",
      "Extracting KNN from new index...\n",
      "Training next epoch...\n",
      "Epoch 6: loss 0.6163594711337675\n",
      "Building new KNN index...\n",
      "Extracting KNN from new index...\n",
      "Training next epoch...\n",
      "Epoch 7: loss 0.557233660759764\n",
      "Building new KNN index...\n",
      "Extracting KNN from new index...\n",
      "Training next epoch...\n",
      "Epoch 8: loss 0.5164889685233301\n",
      "Building new KNN index...\n",
      "Extracting KNN from new index...\n",
      "Training next epoch...\n",
      "Epoch 9: loss 0.47015991310610267\n",
      "Building new KNN index...\n",
      "Extracting KNN from new index...\n",
      "Training next epoch...\n",
      "Epoch 10: loss 0.4325024785385838\n",
      "Building new KNN index...\n",
      "Extracting KNN from new index...\n",
      "Training next epoch...\n",
      "Epoch 11: loss 0.3991732781919825\n",
      "Building new KNN index...\n",
      "Extracting KNN from new index...\n",
      "Training next epoch...\n",
      "Epoch 12: loss 0.3837453876725156\n",
      "Building new KNN index...\n",
      "Extracting KNN from new index...\n",
      "Training next epoch...\n",
      "Epoch 13: loss 0.3433834947077646\n",
      "Building new KNN index...\n",
      "Extracting KNN from new index...\n",
      "Training next epoch...\n",
      "Epoch 14: loss 0.34667034609389424\n",
      "Building new KNN index...\n",
      "Extracting KNN from new index...\n",
      "Training next epoch...\n",
      "Epoch 15: loss 0.31510055851259694\n",
      "Building new KNN index...\n",
      "Extracting KNN from new index...\n",
      "Training next epoch...\n",
      "Epoch 16: loss 0.2945739333687323\n",
      "Building new KNN index...\n",
      "Extracting KNN from new index...\n",
      "Training next epoch...\n",
      "Epoch 17: loss 0.27532726379155975\n",
      "Building new KNN index...\n",
      "Extracting KNN from new index...\n",
      "Training next epoch...\n",
      "Epoch 18: loss 0.27064111562871773\n",
      "Building new KNN index...\n",
      "Extracting KNN from new index...\n",
      "Training next epoch...\n",
      "Epoch 19: loss 0.22530530037054702\n",
      "Building new KNN index...\n",
      "Extracting KNN from new index...\n",
      "Training next epoch...\n",
      "Epoch 20: loss 0.21743567522011933\n",
      "Building new KNN index...\n",
      "Extracting KNN from new index...\n",
      "Training next epoch...\n",
      "Epoch 21: loss 0.19966219614115305\n",
      "Building new KNN index...\n",
      "Extracting KNN from new index...\n",
      "Training next epoch...\n",
      "Epoch 22: loss 0.20572573486871035\n",
      "Building new KNN index...\n",
      "Extracting KNN from new index...\n",
      "Training next epoch...\n",
      "Epoch 23: loss 0.18766495262624558\n",
      "Building new KNN index...\n",
      "Extracting KNN from new index...\n",
      "Training next epoch...\n",
      "Epoch 24: loss 0.17642257282003534\n",
      "Building new KNN index...\n",
      "Extracting KNN from new index...\n",
      "Training next epoch...\n",
      "Epoch 25: loss 0.16693196027193988\n",
      "Building new KNN index...\n",
      "Extracting KNN from new index...\n",
      "Training next epoch...\n",
      "Epoch 26: loss 0.14841298762466354\n",
      "Building new KNN index...\n",
      "Extracting KNN from new index...\n",
      "Training next epoch...\n",
      "Epoch 27: loss 0.13906554359492818\n",
      "Building new KNN index...\n",
      "Extracting KNN from new index...\n",
      "Training next epoch...\n",
      "Epoch 28: loss 0.12820823612557097\n",
      "Building new KNN index...\n",
      "Extracting KNN from new index...\n",
      "Training next epoch...\n",
      "Epoch 29: loss 0.1325805445039478\n",
      "\n",
      "1797/1797 [==============================] - 0s 34us/sample\n"
     ]
    },
    {
     "data": {
      "image/png": "[encoded data removed]",
      "text/plain": [
       "<Figure size 432x288 with 1 Axes>"
      ]
     },
     "metadata": {
      "needs_background": "light"
     },
     "output_type": "display_data"
    }
   ],
   "source": [
    "import matplotlib.pyplot as plt\n",
    "import numpy as np\n",
    "from sklearn.datasets import load_digits\n",
    "from sklearn.preprocessing import MinMaxScaler\n",
    "\n",
    "from meezer import Meezer\n",
    "\n",
    "\n",
    "# GET DATA\n",
    "digits = load_digits()\n",
    "\n",
    "X, labels = digits.data, digits.target\n",
    "labels = labels.astype(int)\n",
    "\n",
    "# SCALE DATA\n",
    "X_scaled = MinMaxScaler().fit_transform(X)\n",
    "\n",
    "# TRAIN A MODEL\n",
    "model = Meezer(embedding_dims=2,\n",
    "               k=25,\n",
    "               batch_size=512,\n",
    "               epochs=30,\n",
    "               sub_epochs=10)\n",
    "embeddings = model.fit_transform(X=X_scaled, Y=labels)\n",
    "\n",
    "# VISUALIZE EMBEDDINGS\n",
    "plt.scatter(x=embeddings[:, 0],\n",
    "            y=embeddings[:, 1],\n",
    "            c=labels,\n",
    "            cmap='tab10',\n",
    "            s=0.5,\n",
    "            alpha=0.7)\n",
    "\n",
    "for i, mnist_num in enumerate(set(labels)):\n",
    "    mnist_num_idxs = np.argwhere(labels == mnist_num)\n",
    "    plt.scatter(embeddings[mnist_num_idxs, 0],\n",
    "                embeddings[mnist_num_idxs, 1],\n",
    "                color=plt.cm.gist_rainbow(i / len(set(labels))),\n",
    "                label=mnist_num)\n",
    "\n",
    "plt.xlabel('embedding dim 1')\n",
    "plt.ylabel('embedding dim 2')\n",
    "plt.legend(bbox_to_anchor=(1.04,1), loc='upper left')\n",
    "\n",
    "plt.show()"
   ]
  },
  {
   "cell_type": "markdown",
   "metadata": {},
   "source": [
    "----- "
   ]
  }
 ],
 "metadata": {
  "kernelspec": {
   "display_name": "Python 3",
   "language": "python",
   "name": "python3"
  },
  "language_info": {
   "codemirror_mode": {
    "name": "ipython",
    "version": 3
   },
   "file_extension": ".py",
   "mimetype": "text/x-python",
   "name": "python",
   "nbconvert_exporter": "python",
   "pygments_lexer": "ipython3",
   "version": "3.6.9"
  }
 },
 "nbformat": 4,
 "nbformat_minor": 4
}
